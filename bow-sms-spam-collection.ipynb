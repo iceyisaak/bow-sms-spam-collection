{
 "cells": [
  {
   "cell_type": "markdown",
   "id": "33baaa97",
   "metadata": {},
   "source": [
    "# Bag of Words - SMS Spam Collection"
   ]
  },
  {
   "cell_type": "markdown",
   "id": "5d567e2d",
   "metadata": {},
   "source": [
    "Dataset: https://archive.ics.uci.edu/dataset/228/sms+spam+collection"
   ]
  },
  {
   "cell_type": "code",
   "execution_count": null,
   "id": "49c8384b",
   "metadata": {},
   "outputs": [],
   "source": [
    "import pandas as pd"
   ]
  },
  {
   "cell_type": "code",
   "execution_count": null,
   "id": "2d28b687",
   "metadata": {},
   "outputs": [],
   "source": [
    "messages0 = pd.read_csv('data/SMSSpamCollection.csv', sep='\\t', names=['label','message'])"
   ]
  },
  {
   "cell_type": "code",
   "execution_count": null,
   "id": "f4c7b764",
   "metadata": {},
   "outputs": [],
   "source": [
    "messages = messages0.copy()\n",
    "messages"
   ]
  },
  {
   "cell_type": "markdown",
   "id": "3dea95bb",
   "metadata": {},
   "source": [
    "---"
   ]
  },
  {
   "cell_type": "markdown",
   "id": "8d93dae0",
   "metadata": {},
   "source": [
    "## Text Preprocessing"
   ]
  },
  {
   "cell_type": "code",
   "execution_count": null,
   "id": "619bcfcd",
   "metadata": {},
   "outputs": [],
   "source": [
    "import re\n",
    "import nltk"
   ]
  },
  {
   "cell_type": "code",
   "execution_count": null,
   "id": "3b561b79",
   "metadata": {},
   "outputs": [],
   "source": [
    "from nltk.corpus import stopwords\n",
    "stopwords_en = stopwords.words('english')"
   ]
  },
  {
   "cell_type": "markdown",
   "id": "dc90c588",
   "metadata": {},
   "source": [
    "### PorterStemmer"
   ]
  },
  {
   "cell_type": "code",
   "execution_count": null,
   "id": "32e01325",
   "metadata": {},
   "outputs": [],
   "source": [
    "from nltk.stem import PorterStemmer\n",
    "porter_stemmer = PorterStemmer()"
   ]
  },
  {
   "cell_type": "code",
   "execution_count": null,
   "id": "c7db5926",
   "metadata": {},
   "outputs": [],
   "source": [
    "corpus_stemmed = []\n",
    "\n",
    "# Go through all the messages\n",
    "for i in range(0,len(messages)):\n",
    "\n",
    "    # In each message, replace non-letters with empty space\n",
    "    review = re.sub('[^a-zA-Z]',' ',messages['message'][i])\n",
    "\n",
    "    # Make all letters lower case\n",
    "    review = review.lower()\n",
    "\n",
    "    # Split each message into a list of word\n",
    "    review = review.split()\n",
    "\n",
    "    # Porter stem each word that doesn't belong to the stopwords list\n",
    "    review = [porter_stemmer.stem(word) for word in review if not word in stopwords_en]\n",
    "\n",
    "    # Join each word by empty space\n",
    "    review = ' '.join(review)\n",
    "\n",
    "    # Append the message in the corpus list\n",
    "    corpus_stemmed.append(review)"
   ]
  },
  {
   "cell_type": "code",
   "execution_count": null,
   "id": "a5b02ccf",
   "metadata": {},
   "outputs": [],
   "source": [
    "corpus_stemmed"
   ]
  },
  {
   "cell_type": "markdown",
   "id": "89e7fdad",
   "metadata": {},
   "source": [
    "### WordNet Lemmatization"
   ]
  },
  {
   "cell_type": "code",
   "execution_count": null,
   "id": "8cdf4bdc",
   "metadata": {},
   "outputs": [],
   "source": [
    "from nltk.stem import WordNetLemmatizer\n",
    "wordnet_lemmatizer = WordNetLemmatizer()"
   ]
  },
  {
   "cell_type": "code",
   "execution_count": null,
   "id": "5f95a468",
   "metadata": {},
   "outputs": [],
   "source": [
    "messages = messages0.copy()\n",
    "messages"
   ]
  },
  {
   "cell_type": "code",
   "execution_count": null,
   "id": "a4b5fa67",
   "metadata": {},
   "outputs": [],
   "source": [
    "corpus_lemmatized = []\n",
    "\n",
    "# Go through all the messages\n",
    "for i in range(0,len(messages)):\n",
    "\n",
    "    # In each message, replace non-letters with empty space\n",
    "    review = re.sub('[^a-zA-Z]',' ',messages['message'][i])\n",
    "\n",
    "    # Make all letters lower case\n",
    "    review = review.lower()\n",
    "\n",
    "    # Split each message into a list of word\n",
    "    review = review.split()\n",
    "\n",
    "    # Porter stem each word that doesn't belong to the stopwords list\n",
    "    review = [wordnet_lemmatizer.lemmatize(word) for word in review if not word in stopwords_en]\n",
    "\n",
    "    # Join each word by empty space\n",
    "    review = ' '.join(review)\n",
    "\n",
    "    # Append the message in the corpus list\n",
    "    corpus_lemmatized.append(review)"
   ]
  },
  {
   "cell_type": "code",
   "execution_count": null,
   "id": "ae3b7782",
   "metadata": {},
   "outputs": [],
   "source": [
    "corpus_lemmatized"
   ]
  },
  {
   "cell_type": "markdown",
   "id": "f69ae7d9",
   "metadata": {},
   "source": [
    "---"
   ]
  },
  {
   "cell_type": "markdown",
   "id": "d156c887",
   "metadata": {},
   "source": [
    "## Bag of Words"
   ]
  },
  {
   "cell_type": "code",
   "execution_count": null,
   "id": "f3e44a10",
   "metadata": {},
   "outputs": [],
   "source": [
    "from sklearn.feature_extraction.text import CountVectorizer"
   ]
  },
  {
   "cell_type": "markdown",
   "id": "491a417e",
   "metadata": {},
   "source": [
    "#### Create a Bag of Words from the dataset that has a max frequency (max_features) of N words"
   ]
  },
  {
   "cell_type": "code",
   "execution_count": null,
   "id": "9d04d863",
   "metadata": {},
   "outputs": [],
   "source": [
    "# count_vectorizer = CountVectorizer(max_features=2500)"
   ]
  },
  {
   "cell_type": "markdown",
   "id": "a8098655",
   "metadata": {},
   "source": [
    "#### Create a Binary Bag of Words"
   ]
  },
  {
   "cell_type": "code",
   "execution_count": null,
   "id": "aecaea43",
   "metadata": {},
   "outputs": [],
   "source": [
    "count_vectorizer = CountVectorizer(max_features=100, binary=True)"
   ]
  },
  {
   "cell_type": "code",
   "execution_count": null,
   "id": "a047546f",
   "metadata": {},
   "outputs": [],
   "source": [
    "X = count_vectorizer.fit_transform(corpus_lemmatized).toarray()"
   ]
  },
  {
   "cell_type": "code",
   "execution_count": null,
   "id": "b4231391",
   "metadata": {},
   "outputs": [],
   "source": [
    "X.shape"
   ]
  },
  {
   "cell_type": "code",
   "execution_count": null,
   "id": "d002384d",
   "metadata": {},
   "outputs": [],
   "source": [
    "X"
   ]
  },
  {
   "cell_type": "markdown",
   "id": "9353159c",
   "metadata": {},
   "source": [
    "---"
   ]
  }
 ],
 "metadata": {
  "kernelspec": {
   "display_name": "conda-env-01",
   "language": "python",
   "name": "python3"
  },
  "language_info": {
   "codemirror_mode": {
    "name": "ipython",
    "version": 3
   },
   "file_extension": ".py",
   "mimetype": "text/x-python",
   "name": "python",
   "nbconvert_exporter": "python",
   "pygments_lexer": "ipython3",
   "version": "3.13.7"
  }
 },
 "nbformat": 4,
 "nbformat_minor": 5
}
